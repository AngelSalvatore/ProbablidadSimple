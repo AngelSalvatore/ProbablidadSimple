{
  "cells": [
    {
      "metadata": {
        "trusted": true
      },
      "cell_type": "code",
      "source": "#Ejercicio de bolas\n#Probabilidad de sacar una bola blanca\n#existen 6 balncas y 4 negras\nBB = 6\nBN= 4\n\nBT = BB + BN\n\nProbabilidad = BB / BT\nPPorcentaje = Probabilidad * 100\nprint(\"La probabilidad de sacar una bola blanca es \",PPorcentaje, \"%\")",
      "execution_count": 11,
      "outputs": [
        {
          "output_type": "stream",
          "text": "La probabilidad de sacar una bola blanca es  60.0 %\n",
          "name": "stdout"
        }
      ]
    },
    {
      "metadata": {
        "trusted": true
      },
      "cell_type": "code",
      "source": "",
      "execution_count": null,
      "outputs": []
    }
  ],
  "metadata": {
    "kernelspec": {
      "name": "python36",
      "display_name": "Python 3.6",
      "language": "python"
    },
    "language_info": {
      "mimetype": "text/x-python",
      "nbconvert_exporter": "python",
      "name": "python",
      "pygments_lexer": "ipython3",
      "version": "3.6.6",
      "file_extension": ".py",
      "codemirror_mode": {
        "version": 3,
        "name": "ipython"
      }
    }
  },
  "nbformat": 4,
  "nbformat_minor": 2
}